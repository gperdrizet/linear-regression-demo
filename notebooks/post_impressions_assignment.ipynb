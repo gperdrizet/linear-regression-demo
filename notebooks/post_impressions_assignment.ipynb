{
 "cells": [
  {
   "cell_type": "markdown",
   "id": "35570323",
   "metadata": {},
   "source": [
    "# Post impression regression\n",
    "\n",
    "This assignment will give you a chance to experiment with linear regression and get comfortable with the Scikit-learn package. Your goal is to build the best linear regression model possible using the dataset provided.\n",
    "\n",
    "## Notebooks set-up"
   ]
  },
  {
   "cell_type": "code",
   "execution_count": null,
   "id": "f552fde0",
   "metadata": {},
   "outputs": [],
   "source": [
    "import matplotlib.pyplot as plt\n",
    "import pandas as pd\n",
    "\n",
    "from sklearn.linear_model import LinearRegression\n",
    "from sklearn.metrics import r2_score, root_mean_squared_error"
   ]
  },
  {
   "cell_type": "markdown",
   "id": "cf3dbbe2",
   "metadata": {},
   "source": [
    "## 1. Data loading"
   ]
  },
  {
   "cell_type": "code",
   "execution_count": 4,
   "id": "e473223c",
   "metadata": {},
   "outputs": [
    {
     "data": {
      "text/html": [
       "<div>\n",
       "<style scoped>\n",
       "    .dataframe tbody tr th:only-of-type {\n",
       "        vertical-align: middle;\n",
       "    }\n",
       "\n",
       "    .dataframe tbody tr th {\n",
       "        vertical-align: top;\n",
       "    }\n",
       "\n",
       "    .dataframe thead th {\n",
       "        text-align: right;\n",
       "    }\n",
       "</style>\n",
       "<table border=\"1\" class=\"dataframe\">\n",
       "  <thead>\n",
       "    <tr style=\"text-align: right;\">\n",
       "      <th></th>\n",
       "      <th>impressions</th>\n",
       "      <th>word_count</th>\n",
       "      <th>n_tags</th>\n",
       "      <th>external_link</th>\n",
       "      <th>media</th>\n",
       "      <th>post_day</th>\n",
       "    </tr>\n",
       "  </thead>\n",
       "  <tbody>\n",
       "    <tr>\n",
       "      <th>0</th>\n",
       "      <td>26</td>\n",
       "      <td>-0.423403</td>\n",
       "      <td>1.346978</td>\n",
       "      <td>-2.236068</td>\n",
       "      <td>1.087115</td>\n",
       "      <td>1.313221</td>\n",
       "    </tr>\n",
       "    <tr>\n",
       "      <th>1</th>\n",
       "      <td>43</td>\n",
       "      <td>0.127056</td>\n",
       "      <td>0.304156</td>\n",
       "      <td>0.447214</td>\n",
       "      <td>1.087115</td>\n",
       "      <td>-0.098002</td>\n",
       "    </tr>\n",
       "    <tr>\n",
       "      <th>2</th>\n",
       "      <td>50</td>\n",
       "      <td>1.915044</td>\n",
       "      <td>-0.043451</td>\n",
       "      <td>0.447214</td>\n",
       "      <td>-0.919866</td>\n",
       "      <td>-0.803613</td>\n",
       "    </tr>\n",
       "    <tr>\n",
       "      <th>3</th>\n",
       "      <td>40</td>\n",
       "      <td>0.184249</td>\n",
       "      <td>-0.738665</td>\n",
       "      <td>0.447214</td>\n",
       "      <td>1.087115</td>\n",
       "      <td>-1.509224</td>\n",
       "    </tr>\n",
       "    <tr>\n",
       "      <th>4</th>\n",
       "      <td>37</td>\n",
       "      <td>-1.492755</td>\n",
       "      <td>1.346978</td>\n",
       "      <td>-2.236068</td>\n",
       "      <td>1.087115</td>\n",
       "      <td>1.313221</td>\n",
       "    </tr>\n",
       "  </tbody>\n",
       "</table>\n",
       "</div>"
      ],
      "text/plain": [
       "   impressions  word_count    n_tags  external_link     media  post_day\n",
       "0           26   -0.423403  1.346978      -2.236068  1.087115  1.313221\n",
       "1           43    0.127056  0.304156       0.447214  1.087115 -0.098002\n",
       "2           50    1.915044 -0.043451       0.447214 -0.919866 -0.803613\n",
       "3           40    0.184249 -0.738665       0.447214  1.087115 -1.509224\n",
       "4           37   -1.492755  1.346978      -2.236068  1.087115  1.313221"
      ]
     },
     "execution_count": 4,
     "metadata": {},
     "output_type": "execute_result"
    }
   ],
   "source": [
    "# Load the post dataset\n",
    "data_df = pd.read_csv('../public/data/03-processed_posts.csv')\n",
    "\n",
    "# Inspect\n",
    "data_df.head()"
   ]
  },
  {
   "cell_type": "markdown",
   "id": "c7312dc0",
   "metadata": {},
   "source": [
    "## 2. Single linear regression\n",
    "\n",
    "To get you started - here is the code to train a single linear regression on the `word_count` feature. For more information, see the Scikit-learn documentation page for [`LinearRegression()`](https://scikit-learn.org/stable/modules/generated/sklearn.linear_model.LinearRegression.html)"
   ]
  },
  {
   "cell_type": "code",
   "execution_count": 7,
   "id": "7a7cc433",
   "metadata": {},
   "outputs": [
    {
     "name": "stdout",
     "output_type": "stream",
     "text": [
      "Predicted impressions: [205.48131785 253.37389295 408.93745215 258.34996211 112.44258501\n",
      " 242.8545488  255.88414331 330.97450844 212.44852587 234.40862201\n",
      " 159.31825688 274.48708603 222.2866211  278.77404351 253.37389295\n",
      " 212.44852587 154.25169397 237.28120059 222.2866211  209.00847144\n",
      " 250.8175804  125.72073467 137.84273558 125.72073467 198.14724951\n",
      " 248.21348354 190.40552873 154.25169397 198.14724951 368.85898813\n",
      " 231.47556366 143.52985686 159.31825688 280.86904729 365.50183471\n",
      " 201.8625397  186.36712639 265.49589386 302.04720428 212.44852587\n",
      "  97.76427156 212.44852587 119.23979286 173.49812571 258.34996211\n",
      " 219.08383349  97.76427156 398.61309071 383.53730159 411.40327095\n",
      " 379.49889925 354.91584854 186.36712639 344.77936997 495.62478592\n",
      " 343.45883757 190.40552873 391.27902237 357.33878136 320.42670649\n",
      " 282.93301282 148.99389544 326.55143455 250.8175804  137.84273558\n",
      " 296.58316571 263.15440806 159.31825688 112.44258501 222.2866211\n",
      " 205.48131785 219.08383349]\n"
     ]
    }
   ],
   "source": [
    "feature = 'word_count'\n",
    "\n",
    "model = LinearRegression()\n",
    "model = model.fit(data_df[feature].to_frame(), data_df['impressions'])\n",
    "\n",
    "predictions = model.predict(data_df[feature].to_frame())\n",
    "print(f'Predicted impressions: {predictions}')"
   ]
  },
  {
   "cell_type": "markdown",
   "id": "fc660a8b",
   "metadata": {},
   "source": [
    "## 3. Your model\n",
    "\n",
    "You can use any combination of features (or all of them!). You should evaluate your model by looking at the R-squared value for the fit, and by plotting the results. Here are some links that may help:\n",
    "\n",
    "1. Scikit-learn's [`r2_score()`](https://scikit-learn.org/stable/modules/generated/sklearn.metrics.r2_score.html)\n",
    "2. Matplotlib's [`scatter`](https://matplotlib.org/stable/api/_as_gen/matplotlib.pyplot.scatter.html)"
   ]
  },
  {
   "cell_type": "code",
   "execution_count": null,
   "id": "c815e8c6",
   "metadata": {},
   "outputs": [],
   "source": [
    "# Your code here..."
   ]
  }
 ],
 "metadata": {
  "kernelspec": {
   "display_name": "Python 3",
   "language": "python",
   "name": "python3"
  },
  "language_info": {
   "codemirror_mode": {
    "name": "ipython",
    "version": 3
   },
   "file_extension": ".py",
   "mimetype": "text/x-python",
   "name": "python",
   "nbconvert_exporter": "python",
   "pygments_lexer": "ipython3",
   "version": "3.11.4"
  }
 },
 "nbformat": 4,
 "nbformat_minor": 5
}
